{
 "cells": [
  {
   "cell_type": "code",
   "execution_count": 29,
   "metadata": {},
   "outputs": [
    {
     "name": "stdout",
     "output_type": "stream",
     "text": [
      "<SparkContext master=local[*] appName=pyspark-shell>\n"
     ]
    }
   ],
   "source": [
    "import findspark\n",
    "findspark.init(\"C:\\\\spark-3.1.1-bin-hadoop2.7\")\n",
    "\n",
    "from pyspark import SparkConf, SparkContext, SQLContext\n",
    "sc = SparkContext.getOrCreate()\n",
    "print(sc)\n",
    "path = \"C:\\\\Users\\\\Mirela\\\\PycharmProjects\\\\Covid_2021\\\\israel-covid-19-cases-by-age.csv\" \n",
    "data = sc.textFile(path).cache()"
   ]
  },
  {
   "cell_type": "code",
   "execution_count": 30,
   "metadata": {},
   "outputs": [
    {
     "data": {
      "text/plain": [
       "['Entity,Code,Day,weekly_cases',\n",
       " '0-19,,2020-03-21,0.0134813639968279',\n",
       " '0-19,,2020-03-28,0.0660190325138779',\n",
       " '0-19,,2020-04-04,0.130848532910389',\n",
       " '0-19,,2020-04-11,0.119349722442506',\n",
       " '0-19,,2020-04-18,0.136796193497224',\n",
       " '0-19,,2020-04-25,0.124702616970658',\n",
       " '0-19,,2020-05-02,0.0549167327517843',\n",
       " '0-19,,2020-05-09,0.0178429817605075',\n",
       " '0-19,,2020-05-16,0.00852498017446471']"
      ]
     },
     "execution_count": 30,
     "metadata": {},
     "output_type": "execute_result"
    }
   ],
   "source": [
    "data.take(10)"
   ]
  },
  {
   "cell_type": "code",
   "execution_count": 31,
   "metadata": {},
   "outputs": [
    {
     "name": "stdout",
     "output_type": "stream",
     "text": [
      "Entity,Code,Day,weekly_cases\n"
     ]
    }
   ],
   "source": [
    "# Filter the header row \n",
    "header = data.first()\n",
    "print (header)"
   ]
  },
  {
   "cell_type": "code",
   "execution_count": 32,
   "metadata": {},
   "outputs": [],
   "source": [
    "dataWoHeader = data.filter(lambda x:x !=header) "
   ]
  },
  {
   "cell_type": "code",
   "execution_count": 33,
   "metadata": {},
   "outputs": [
    {
     "data": {
      "text/plain": [
       "'0-19,,2020-03-21,0.0134813639968279'"
      ]
     },
     "execution_count": 33,
     "metadata": {},
     "output_type": "execute_result"
    }
   ],
   "source": [
    "dataWoHeader.first()"
   ]
  },
  {
   "cell_type": "code",
   "execution_count": 34,
   "metadata": {},
   "outputs": [
    {
     "name": "stdout",
     "output_type": "stream",
     "text": [
      "['Entity', 'Code', 'Day', 'weekly_cases']\n"
     ]
    }
   ],
   "source": [
    "fields   = header.replace(\" \",\"_\").replace(\"/\",\"_\").split(\",\")\n",
    "print(fields)"
   ]
  },
  {
   "cell_type": "code",
   "execution_count": 35,
   "metadata": {},
   "outputs": [],
   "source": [
    "from datetime import datetime \n",
    "import csv\n",
    "def parseTotal_cases(row):\n",
    "    row = row.split(\",\")\n",
    "    row[3] = float(row[3])\n",
    "    return (row[0],row[3])"
   ]
  },
  {
   "cell_type": "code",
   "execution_count": 36,
   "metadata": {},
   "outputs": [],
   "source": [
    "# Creating a Pair RDD \n",
    "Total_casesParsed = dataWoHeader.map(parseTotal_cases)"
   ]
  },
  {
   "cell_type": "code",
   "execution_count": 37,
   "metadata": {},
   "outputs": [
    {
     "data": {
      "text/plain": [
       "[('0-19', 0.0134813639968279),\n",
       " ('0-19', 0.0660190325138779),\n",
       " ('0-19', 0.130848532910389),\n",
       " ('0-19', 0.119349722442506),\n",
       " ('0-19', 0.136796193497224),\n",
       " ('0-19', 0.124702616970658),\n",
       " ('0-19', 0.0549167327517843),\n",
       " ('0-19', 0.0178429817605075),\n",
       " ('0-19', 0.00852498017446471),\n",
       " ('0-19', 0.0077319587628866)]"
      ]
     },
     "execution_count": 37,
     "metadata": {},
     "output_type": "execute_result"
    }
   ],
   "source": [
    "Total_casesParsed.take(10)"
   ]
  },
  {
   "cell_type": "code",
   "execution_count": 38,
   "metadata": {},
   "outputs": [],
   "source": [
    "# Summarizing a Pair RDD \n",
    "entityTrend = Total_casesParsed.map(lambda x: (x[0],x[1]))\n",
    "counts = entityTrend.reduceByKey(lambda x, y: x + y)\n",
    "                       "
   ]
  },
  {
   "cell_type": "code",
   "execution_count": 39,
   "metadata": {},
   "outputs": [
    {
     "data": {
      "text/plain": [
       "[('0-19', 57.52577319587628),\n",
       " ('20-39', 48.656539930871396),\n",
       " ('40-59', 39.39565114630111),\n",
       " ('60-79', 36.142781875658564),\n",
       " ('80+', 36.50226244343892)]"
      ]
     },
     "execution_count": 39,
     "metadata": {},
     "output_type": "execute_result"
    }
   ],
   "source": [
    "counts.take(10)"
   ]
  },
  {
   "cell_type": "code",
   "execution_count": 40,
   "metadata": {},
   "outputs": [
    {
     "data": {
      "text/plain": [
       "[('0-19', 57.52577319587628),\n",
       " ('20-39', 48.656539930871396),\n",
       " ('40-59', 39.39565114630111),\n",
       " ('80+', 36.50226244343892),\n",
       " ('60-79', 36.142781875658564)]"
      ]
     },
     "execution_count": 40,
     "metadata": {},
     "output_type": "execute_result"
    }
   ],
   "source": [
    "counts.sortBy(lambda x:-x[1]).take(5)"
   ]
  }
 ],
 "metadata": {
  "kernelspec": {
   "display_name": "Python 3",
   "language": "python",
   "name": "python3"
  },
  "language_info": {
   "codemirror_mode": {
    "name": "ipython",
    "version": 3
   },
   "file_extension": ".py",
   "mimetype": "text/x-python",
   "name": "python",
   "nbconvert_exporter": "python",
   "pygments_lexer": "ipython3",
   "version": "3.8.5"
  }
 },
 "nbformat": 4,
 "nbformat_minor": 4
}
